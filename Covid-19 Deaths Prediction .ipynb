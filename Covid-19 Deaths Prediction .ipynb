{
 "cells": [
  {
   "cell_type": "code",
   "execution_count": null,
   "id": "588c6072",
   "metadata": {},
   "outputs": [],
   "source": [
    "import pandas as pd\n",
    "import numpy as np\n",
    "data = pd.read_csv(\"https://raw.githubusercontent.com/\\\n",
    "amankharwal/Website-data/master/\\\n",
    "COVID19%20data%20for%20overall%20INDIA.csv\")\n",
    "print(data.head())"
   ]
  },
  {
   "cell_type": "code",
   "execution_count": null,
   "id": "63c94db3",
   "metadata": {},
   "outputs": [],
   "source": [
    "data.isnull().sum()"
   ]
  },
  {
   "cell_type": "code",
   "execution_count": null,
   "id": "c3380892",
   "metadata": {},
   "outputs": [],
   "source": [
    "data = data.drop(\"Date\", axis=1)"
   ]
  },
  {
   "cell_type": "code",
   "execution_count": null,
   "id": "8941cd22",
   "metadata": {},
   "outputs": [],
   "source": [
    "import plotly.express as px\n",
    "fig = px.bar(data, x='Date_YMD', y='Daily Confirmed')\n",
    "fig.show()"
   ]
  },
  {
   "cell_type": "code",
   "execution_count": null,
   "id": "be43243c",
   "metadata": {},
   "outputs": [],
   "source": [
    "cases = data[\"Daily Confirmed\"].sum()\n",
    "deceased = data[\"Daily Deceased\"].sum()\n",
    "\n",
    "labels = [\"Confirmed\", \"Deceased\"]\n",
    "values = [cases, deceased]\n",
    "\n",
    "fig = px.pie(data, values=values, \n",
    "             names=labels, \n",
    "             title='Daily Confirmed Cases vs Daily Deaths', hole=0.5)\n",
    "fig.show()"
   ]
  },
  {
   "cell_type": "code",
   "execution_count": null,
   "id": "9bd72efe",
   "metadata": {},
   "outputs": [],
   "source": [
    "death_rate = (data[\"Daily Deceased\"].sum() / data[\"Daily Confirmed\"].sum()) * 100\n",
    "print(death_rate)"
   ]
  },
  {
   "cell_type": "code",
   "execution_count": null,
   "id": "64968185",
   "metadata": {},
   "outputs": [],
   "source": [
    "import plotly.express as px\n",
    "fig = px.bar(data, x='Date_YMD', y='Daily Deceased')\n",
    "fig.show()"
   ]
  },
  {
   "cell_type": "code",
   "execution_count": null,
   "id": "fb447ead",
   "metadata": {},
   "outputs": [],
   "source": [
    "from autots import AutoTS\n",
    "model = AutoTS(forecast_length=30, frequency='infer', ensemble='simple')\n",
    "model = model.fit(data, date_col=\"Date_YMD\", value_col='Daily Deceased', id_col=None)\n",
    "prediction = model.predict()\n",
    "forecast = prediction.forecast\n",
    "print(forecast)"
   ]
  }
 ],
 "metadata": {
  "kernelspec": {
   "display_name": "Python 3 (ipykernel)",
   "language": "python",
   "name": "python3"
  },
  "language_info": {
   "codemirror_mode": {
    "name": "ipython",
    "version": 3
   },
   "file_extension": ".py",
   "mimetype": "text/x-python",
   "name": "python",
   "nbconvert_exporter": "python",
   "pygments_lexer": "ipython3",
   "version": "3.9.7"
  }
 },
 "nbformat": 4,
 "nbformat_minor": 5
}
